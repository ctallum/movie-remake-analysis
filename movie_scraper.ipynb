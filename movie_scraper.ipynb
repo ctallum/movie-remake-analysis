{
 "cells": [
  {
   "cell_type": "code",
   "execution_count": 57,
   "metadata": {
    "tags": []
   },
   "outputs": [
    {
     "output_type": "stream",
     "name": "stdout",
     "text": [
      "https://www.imdb.com/title/tt0053559/\n",
      "<bound method Tag.get_text of <a class=\"external text\" href=\"https://www.imdb.com/title/tt0053559/\" rel=\"nofollow\"><i>13 Ghosts</i></a>>\n",
      "https://www.imdb.com/title/tt0475169/\n",
      "<bound method Tag.get_text of <a class=\"external text\" href=\"https://www.imdb.com/title/tt0475169/\" rel=\"nofollow\"><i>13 Tzameti</i></a>>\n",
      "https://www.imdb.com/title/tt3685624/\n",
      "<bound method Tag.get_text of <a class=\"external text\" href=\"https://www.imdb.com/title/tt3685624/\" rel=\"nofollow\">\"3 Idiotas\"</a>>\n",
      "https://www.imdb.com/title/tt1187043/\n",
      "<bound method Tag.get_text of <a class=\"external text\" href=\"https://www.imdb.com/title/tt1187043/\" rel=\"nofollow\"><i>3 Idiots</i></a>>\n",
      "https://www.imdb.com/title/tt0050086/\n",
      "<bound method Tag.get_text of <a class=\"external text\" href=\"https://www.imdb.com/title/tt0050086/\" rel=\"nofollow\"><i>3:10 to Yuma</i></a>>\n",
      "https://www.imdb.com/title/tt0026029/\n",
      "<bound method Tag.get_text of <a class=\"external text\" href=\"https://www.imdb.com/title/tt0026029/\" rel=\"nofollow\"><i>The 39 Steps</i></a>>\n"
     ]
    }
   ],
   "source": [
    "from movie_scraper import get_remakes\n",
    "import requests\n",
    "from bs4 import BeautifulSoup as soup\n",
    "\n",
    "df = get_remakes()\n",
    "\n",
    "imdb_link = []\n",
    "\n",
    "for link in df[\"Original Link\"]:\n",
    "    r = requests.get(link)\n",
    "    if r.status_code == 200: # Check to see if the URL is valid\n",
    "        movie_page = soup(r.text)\n",
    "        external_links = movie_page.find_all(class_=\"external text\")\n",
    "        for link in external_links:\n",
    "            if \"https://www.imdb.com/title/\" in link.get(\"href\"):\n",
    "                imdb_link.append(link.get(\"href\"))\n",
    "                continue\n",
    "            else:\n",
    "                imdb_link.append(None)\n",
    "    else:\n",
    "        imdb_link.append(None)\n",
    "    \n",
    "print(imdb_link)"
   ]
  },
  {
   "cell_type": "code",
   "execution_count": null,
   "metadata": {},
   "outputs": [],
   "source": []
  },
  {
   "cell_type": "code",
   "execution_count": null,
   "metadata": {},
   "outputs": [],
   "source": []
  }
 ],
 "metadata": {
  "kernelspec": {
   "display_name": "Python 3",
   "language": "python",
   "name": "python3"
  },
  "language_info": {
   "codemirror_mode": {
    "name": "ipython",
    "version": 3
   },
   "file_extension": ".py",
   "mimetype": "text/x-python",
   "name": "python",
   "nbconvert_exporter": "python",
   "pygments_lexer": "ipython3",
   "version": "3.8.3-final"
  }
 },
 "nbformat": 4,
 "nbformat_minor": 2
}